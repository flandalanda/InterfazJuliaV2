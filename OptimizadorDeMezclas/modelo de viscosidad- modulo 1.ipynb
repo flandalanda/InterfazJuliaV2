{
 "cells": [
  {
   "cell_type": "code",
   "execution_count": 1,
   "metadata": {},
   "outputs": [
    {
     "name": "stdout",
     "output_type": "stream",
     "text": [
      "Para poder obtener resultados confiables de este modelo es necesario tomar en cuenta las siguientes consideraciones \n",
      "       1- Todas las viscosidades fueron medidas a la misma temperatura\n",
      "       2- Todos los inputs de viscosidades deben tener las mismas unidadesindique viscosidad dinámica del productoSTDIN> 13\n",
      "indique la viscosidad del primer básicoSTDIN> 5\n",
      "indique la viscosidad del segundo básicoSTDIN> 20\n",
      "la fracción masa del primer básico es 0.31074418837313506 \n",
      "    la fracción masa del segundo básico es 0.689255811626865"
     ]
    }
   ],
   "source": [
    "#= modelo de predicción de viscosidad dinámica y cinemática \n",
    "\n",
    "Nota: para utilizar este modelo se tienen las siguientes consideraciones\n",
    "\n",
    "1) Se tiene la viscosidad objetivo y las viscosidades de los básicos sin mezclar \n",
    "2) Todas las viscosidades fueron medidas a la misma temperatura \n",
    "\n",
    "=#\n",
    "\n",
    "#especificar la viscosidad dinámica/cinemática del producto \n",
    "print(\"Para poder obtener resultados confiables de este modelo es necesario tomar en cuenta las siguientes consideraciones \n",
    "       1- Todas las viscosidades fueron medidas a la misma temperatura\n",
    "       2- Todos los inputs de viscosidades deben tener las mismas unidades\")\n",
    " \n",
    "print(\"indique viscosidad dinámica del producto\")\n",
    "miu_p = parse(Float64,readline(STDIN))\n",
    "\n",
    "# especificar la viscosidad dinámica/cinemática de los básicos\n",
    "\n",
    "print(\"indique la viscosidad del primer básico\")\n",
    "miu_1 = parse(Float64,readline(STDIN))\n",
    "\n",
    "print(\"indique la viscosidad del segundo básico\")\n",
    "miu_2 = parse(Float64,readline(STDIN))\n",
    "\n",
    "# modelo de predicción\n",
    "\n",
    "x1 = log(miu_p/miu_2)/log(miu_1/miu_2)\n",
    "x2 = 1-x1\n",
    "\n",
    "print(\"la fracción masa del primer básico es $x1 \n",
    "    la fracción masa del segundo básico es $x2\")\n"
   ]
  },
  {
   "cell_type": "code",
   "execution_count": null,
   "metadata": {
    "collapsed": true
   },
   "outputs": [],
   "source": []
  },
  {
   "cell_type": "code",
   "execution_count": null,
   "metadata": {
    "collapsed": true
   },
   "outputs": [],
   "source": []
  }
 ],
 "metadata": {
  "kernelspec": {
   "display_name": "Julia 0.6.2",
   "language": "julia",
   "name": "julia-0.6"
  },
  "language_info": {
   "file_extension": ".jl",
   "mimetype": "application/julia",
   "name": "julia",
   "version": "0.6.2"
  }
 },
 "nbformat": 4,
 "nbformat_minor": 2
}
