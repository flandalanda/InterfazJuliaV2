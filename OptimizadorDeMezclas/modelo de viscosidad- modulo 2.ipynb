{
 "cells": [
  {
   "cell_type": "code",
   "execution_count": 1,
   "metadata": {},
   "outputs": [
    {
     "name": "stdout",
     "output_type": "stream",
     "text": [
      "Para poder obtener resultados confiables de este modelo es necesario tomar en cuenta las siguientes consideraciones \n",
      "       1- Todas las viscosidades fueron medidas a la misma temperatura\n",
      "       2- Todos los inputs de viscosidades deben tener las mismas unidadesfracción masa x1STDIN> 0.3\n",
      "indique viscosidad  del basico 1STDIN> 12\n",
      "indique viscosidad  del basico 2STDIN> 5\n",
      "la viscosidad estimada de la mezcla de los básicos es 6.501796567036683"
     ]
    }
   ],
   "source": [
    "#modelo de predicción de viscosidad del producto teniendo fijas las fracciones masa \n",
    "print(\"Para poder obtener resultados confiables de este modelo es necesario tomar en cuenta las siguientes consideraciones \n",
    "       1- Todas las viscosidades fueron medidas a la misma temperatura\n",
    "       2- Todos los inputs de viscosidades deben tener las mismas unidades\")\n",
    " \n",
    "\n",
    "print(\"fracción masa x1\")\n",
    "x1 = parse(Float64,readline(STDIN))\n",
    "\n",
    "print(\"indique viscosidad  del basico 1\")\n",
    "miu_2 = parse(Float64,readline(STDIN))\n",
    "\n",
    "print(\"indique viscosidad  del basico 2\")\n",
    "miu_1 = parse(Float64,readline(STDIN))\n",
    "\n",
    "miu_p = ((miu_2/miu_1)^x1)*miu_1\n",
    "\n",
    "print(\"la viscosidad estimada de la mezcla de los básicos es $miu_p\")\n"
   ]
  },
  {
   "cell_type": "code",
   "execution_count": null,
   "metadata": {
    "collapsed": true
   },
   "outputs": [],
   "source": []
  },
  {
   "cell_type": "code",
   "execution_count": null,
   "metadata": {
    "collapsed": true
   },
   "outputs": [],
   "source": []
  },
  {
   "cell_type": "code",
   "execution_count": null,
   "metadata": {
    "collapsed": true
   },
   "outputs": [],
   "source": []
  }
 ],
 "metadata": {
  "kernelspec": {
   "display_name": "Julia 0.6.2",
   "language": "julia",
   "name": "julia-0.6"
  },
  "language_info": {
   "file_extension": ".jl",
   "mimetype": "application/julia",
   "name": "julia",
   "version": "0.6.2"
  }
 },
 "nbformat": 4,
 "nbformat_minor": 2
}
