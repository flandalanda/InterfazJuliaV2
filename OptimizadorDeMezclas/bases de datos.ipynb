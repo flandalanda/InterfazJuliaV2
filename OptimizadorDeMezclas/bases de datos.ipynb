{
 "cells": [
  {
   "cell_type": "code",
   "execution_count": 1,
   "metadata": {},
   "outputs": [
    {
     "name": "stdout",
     "output_type": "stream",
     "text": [
      "indique el criterio de búsqueda: \n",
      "    1 = por producto (indica especificaciones del producto)\n",
      "    2 = por básico (indica que productos usan ese básico)\n",
      "    3 = por grado (MULTI, MONO)\n",
      "    4 = por tipo de uso (GAS, TRANS, DIESEL)\n",
      "    5 = buscar especificiaciones de un basicoSTDIN> 2\n",
      "indique el código del básico que desea ver"
     ]
    },
    {
     "name": "stderr",
     "output_type": "stream",
     "text": [
      "WARNING: imported binding for prod overwritten in module Main\n"
     ]
    },
    {
     "name": "stdout",
     "output_type": "stream",
     "text": [
      "STDIN> 3\n"
     ]
    },
    {
     "data": {
      "text/plain": [
       "0×1 Array{Any,2}"
      ]
     },
     "execution_count": 1,
     "metadata": {},
     "output_type": "execute_result"
    }
   ],
   "source": [
    "#=archivo para llamar a las bases de datos \n",
    "\n",
    "el objetivo de este programa es darle la oportunidad al usuario de encontrar productos con ciertas características\n",
    "Podrá encontrarlos por: \n",
    "\n",
    "1) El código del producto : podrá ver la fórmula de básicos que lo componen y especificaciones de viscosidad dinámica, cinemática, volatilidad y color\n",
    "2) por el tipo de básico usado: al ingresar el código del básico y podrá ver todos los productos que lo contengan \n",
    "3) por tipo de uso: GASOLINA, DIESEL, TRANS\n",
    "4) por grado: Monogrado o multigrado \n",
    "5) buscar especificaciones de un básico \n",
    "\n",
    "=#\n",
    "\n",
    "#lo primero que se hace es llamar al paquete que requerimos para leer archivos csv\n",
    "\n",
    "#using CSV\n",
    "\n",
    "#ahora llamamos a las bases de datos\n",
    "\n",
    "\n",
    "using DataFrames\n",
    "\n",
    "#=información de básicos individuales \n",
    "\n",
    "[Nombre, Código, cSt a 100°C, cSt a 40°C, IV, Color, Volatilidad (% en peso), Densidad Kg/L, cP a -10°C, cP a -15°C, cP a -20°C, cP a -25°C, cP a -30°C, cP a -35°C]\n",
    "=#\n",
    "\n",
    "#llamamos a la base de datos\n",
    "basicos = readtable( \"info basicos.csv\")\n",
    "#la convertimos en una matriz \n",
    "b = convert(Array, basicos)\n",
    "\n",
    "\n",
    "#=información de formulaciones \n",
    "\n",
    "[linea, grado, codigo producto, B1 nombre, B1 codigo, B1 X1, B2 nombre, B2 codigo, B2 X2, cSt a 100°C, temp para CCS °C, cP, Color, Volatilidad]\n",
    "=#\n",
    "\n",
    "#llamamos a la base de datos\n",
    "formulaciones = readtable(\"formulaciones.csv\")\n",
    "#la convertimos en una matriz \n",
    "f = convert(Array, formulaciones)\n",
    "\n",
    "\n",
    "#=ahora si podemos buscar los valores que queramos\n",
    "indicar criterio de busqueda \n",
    "\n",
    "1 = por producto \n",
    "2 = por básico \n",
    "3 = por grado (multi, mono)\n",
    "4 = por tipo de uso \n",
    "5 = buscar especificaciones de un básico \n",
    "=# \n",
    "\n",
    "print(\"indique el criterio de búsqueda: \n",
    "    1 = por producto (indica especificaciones del producto)\n",
    "    2 = por básico (indica que productos usan ese básico)\n",
    "    3 = por grado (MULTI, MONO)\n",
    "    4 = por tipo de uso (GAS, TRANS, DIESEL)\n",
    "    5 = buscar especificiaciones de un basico\")\n",
    "\n",
    "criterio = parse(Int8,readline(STDIN))\n",
    "\n",
    "if criterio == 1\n",
    "\n",
    "print(\"indique el código de producto que desea ver\")\n",
    "z = parse(Int32,readline(STDIN))\n",
    "z_1 = string(z)\n",
    "\n",
    "y = findfirst(f[:,3],z_1)\n",
    "\n",
    "product = f[y,:]\n",
    "\n",
    "heading = [\"LINEA\",\"GRADO\",\"CÓDIGO\",\"B1 NOMBRE\",\"B1 CODIGO\",\"B1 X1\",\"B2 NOMBRE\",\"B2 CODIGO\",\"B2 X2\",\"cSt A 100°C\",\"TEMP PARA CCS °C\",\"cP\",\"0\"]\n",
    "answer = [heading product]\n",
    "elseif criterio ==2 \n",
    "    \n",
    "    print(\"indique el código del básico que desea ver\")\n",
    "    z = parse(Int32,readline(STDIN))\n",
    "    x = f[:,5]\n",
    "    fun(x) = x == z\n",
    "    basico1 = find(fun,x)\n",
    "    x = f[:,8]\n",
    "    basico2 = find(fun,x)\n",
    "    \n",
    "prod = Array{Any,2}(length(basico1),1)\n",
    "\n",
    "    nss = 0 \n",
    "    \n",
    "for i = 1:length(basico1)\n",
    "        nss = nss+1\n",
    "        prod[nss] = f[basico1[i],:]\n",
    "        end \n",
    "prod \n",
    "    \n",
    "elseif criterio == 3\n",
    "    print(\"MULTI(1) o MONO(2)\")\n",
    "    z = parse(Int32,readline(STDIN))\n",
    "    if z == 1 \n",
    "        answer = f[1:53,:]\n",
    "        else z == 2\n",
    "        answer = f[54:end,:]\n",
    "    end\n",
    "elseif  criterio == 4\n",
    "    println(\"GAS(1), TRANS(2), DIESEL(3)\")\n",
    "     z = parse(Int32,readline(STDIN))\n",
    "    if z == 1 \n",
    "        answer = f[1:22,:]\n",
    "        elseif z == 2 \n",
    "        answer = f[23:42,:]\n",
    "        else z == 3\n",
    "        answer = f[43:71,:]\n",
    "    end\n",
    "    \n",
    "    else criterio == 5\n",
    "       print(\"indique el código del básico que desea ver\")\n",
    "       z = parse(Int32,readline(STDIN))\n",
    "       y = findfirst(b[:,2],z)\n",
    "       product = b[y,:]\n",
    "       heading = [\"Nombre\", \"Código\", \"cSt a 100°C\", \"cSt a 40°C\", \"IV\", \"Color\", \"Volatilidad (% en peso)\", \"Densidad Kg/L\", \"cP a -10°C\", \"cP a -15°C\", \"cP a -20°C\", \"cP a -25°C\", \"cP a -30°C\", \"cP a -35°C\"]\n",
    "       answer = [heading product]\n",
    "end \n"
   ]
  },
  {
   "cell_type": "code",
   "execution_count": 2,
   "metadata": {},
   "outputs": [
    {
     "ename": "LoadError",
     "evalue": "\u001b[91mMethodError: Cannot `convert` an object of type Base.#info to an object of type DataFrames.DataFrame\nThis may have arisen from a call to the constructor DataFrames.DataFrame(...),\nsince type constructors fall back to convert methods.\u001b[39m",
     "output_type": "error",
     "traceback": [
      "\u001b[91mMethodError: Cannot `convert` an object of type Base.#info to an object of type DataFrames.DataFrame\nThis may have arisen from a call to the constructor DataFrames.DataFrame(...),\nsince type constructors fall back to convert methods.\u001b[39m",
      "",
      "Stacktrace:",
      " [1] \u001b[1minclude_string\u001b[22m\u001b[22m\u001b[1m(\u001b[22m\u001b[22m::String, ::String\u001b[1m)\u001b[22m\u001b[22m at \u001b[1m.\\loading.jl:522\u001b[22m\u001b[22m"
     ]
    }
   ],
   "source": [
    "convert(DataFrame,info)"
   ]
  },
  {
   "cell_type": "code",
   "execution_count": 3,
   "metadata": {},
   "outputs": [
    {
     "data": {
      "text/plain": [
       "Base.#info"
      ]
     },
     "execution_count": 3,
     "metadata": {},
     "output_type": "execute_result"
    }
   ],
   "source": [
    "typeof(info)\n"
   ]
  },
  {
   "cell_type": "code",
   "execution_count": 12,
   "metadata": {},
   "outputs": [
    {
     "data": {
      "text/plain": [
       "(6, 13)"
      ]
     },
     "execution_count": 12,
     "metadata": {},
     "output_type": "execute_result"
    }
   ],
   "source": [
    "size(prod)"
   ]
  },
  {
   "cell_type": "code",
   "execution_count": 13,
   "metadata": {},
   "outputs": [
    {
     "data": {
      "text/plain": [
       "6-element Array{Any,1}:\n",
       " Any[\"GAS\", \"MONO\", \"2642\", \"ULTRA S-8\", 3040, 0.4677, \"ULTRA S-4\", 3039, 0.5323, 5.46, -30, 6130, 0]     \n",
       " Any[\"GAS\", \"MONO\", \"2543\", \"ULTRA S-8\", 3040, 0.9096, \"ULTRA S-4\", 3039, 0.0904, 7.0, -25, 5500, 0]      \n",
       " Any[\"DIESEL\", \"MULTI\", \"2078\", \"ULTRA S-8\", 3040, 0.0418, \"ULTRA S-4\", 3039, 0.9582, 4.353, -20, 5900, 0]\n",
       " Any[\"DIESEL\", \"MULTI\", \"0\", \"ULTRA S-8\", 3040, 0.6658, \"ULTRA S-4\", 3039, 0.3342, 6.1, -25, 5600, 0]     \n",
       " Any[\"DIESEL\", \"MULTI\", \"2536\", \"ULTRA S-8\", 3040, 0.6931, \"ULTRA S-4\", 3039, 0.3069, 6.126, -25, 6455, 0]\n",
       " Any[\"DIESEL\", \"MULTI\", \"2328\", \"ULTRA S-8\", 3040, 0.9527, \"ULTRA S-4\", 3039, 0.0473, 7.18, -25, 6200, 0] "
      ]
     },
     "execution_count": 13,
     "metadata": {},
     "output_type": "execute_result"
    }
   ],
   "source": [
    "prod[:,1]"
   ]
  },
  {
   "cell_type": "code",
   "execution_count": null,
   "metadata": {
    "collapsed": true
   },
   "outputs": [],
   "source": []
  }
 ],
 "metadata": {
  "kernelspec": {
   "display_name": "Julia 0.6.2",
   "language": "julia",
   "name": "julia-0.6"
  },
  "language_info": {
   "file_extension": ".jl",
   "mimetype": "application/julia",
   "name": "julia",
   "version": "0.6.2"
  }
 },
 "nbformat": 4,
 "nbformat_minor": 2
}
