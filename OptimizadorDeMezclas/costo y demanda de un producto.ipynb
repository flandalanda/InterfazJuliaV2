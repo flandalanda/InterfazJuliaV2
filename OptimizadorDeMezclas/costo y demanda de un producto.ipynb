{
 "cells": [
  {
   "cell_type": "code",
   "execution_count": 1,
   "metadata": {},
   "outputs": [
    {
     "name": "stdout",
     "output_type": "stream",
     "text": [
      "indique el código de producto que desea analizarSTDIN> 2168\n"
     ]
    },
    {
     "data": {
      "text/plain": [
       "5×2 Array{Any,2}:\n",
       "   2168                          \"codigo de producto\"\n",
       " 606419                          \"demanda Kg/mes\"    \n",
       "       \"BRIGHT STOCK 150\"        \"B1\"                \n",
       "       \"SOLVENT NEUTRAL 600 GI\"  \"B2\"                \n",
       "      8.91385e6                  \"costo_total pesos\" "
      ]
     },
     "execution_count": 1,
     "metadata": {},
     "output_type": "execute_result"
    }
   ],
   "source": [
    "#archivo para buscar información de costo y demanda de un producto \n",
    "\n",
    "using DataFrames, JLD\n",
    "\n",
    "#llamamos a las bases de datos y las convertimos en matrices\n",
    "basicos = readtable( \"info basicos.csv\")\n",
    "b = convert(Array, basicos)\n",
    "formulaciones = readtable(\"formulaciones.csv\")\n",
    "f = convert(Array, formulaciones)\n",
    "restricciones_basicos = readtable(\"restricciones de basicos.csv\")\n",
    "r = convert(Array, restricciones_basicos)\n",
    "precios = readtable(\"resumen de precios.csv\")\n",
    "p = convert(Array, precios)\n",
    "demanda = readtable(\"demanda.csv\")\n",
    "d = convert(Array,demanda)\n",
    "\n",
    "#indicamos que producto deseamos analizar \n",
    "print(\"indique el código de producto que desea analizar\")\n",
    "z = parse(Int32,readline(STDIN))\n",
    "z_1 = string(z)\n",
    "\n",
    "#lo buscamos en la hoja de formulaciones\n",
    "yf = findfirst(f[:,3],z_1)\n",
    "\n",
    "#buscamos los básicos que lo componen y sus fracciones masa \n",
    "\n",
    "b1 = f[yf,5] #código de básico 1\n",
    "bx1 = f[yf,6] #fracción masa de básico 1\n",
    "bnom1 = f[yf,4] #nombre de básico 1 \n",
    "b2 = f[yf,8] #código de básico 2\n",
    "bx2 = f[yf,9] #fracción masa de básico 2\n",
    "bnom2 = f[yf,7]#nombre de básico 2\n",
    "\n",
    "#buscamos la demanda \n",
    "yd = findfirst(r[:,1],z_1)\n",
    "dem = d[yd,2] #demanda de producto en Kg/mes\n",
    "\n",
    "#buscamos el precio de los básicos que componen al producto \n",
    "yb1 = findfirst(p[:,2],b1) #indica el índice donde se encuentra el básico 1 \n",
    "yb2 = findfirst(p[:,2],b2) #indica el índice donde se encuentra el básico 2\n",
    "cb1 = p[yb1,5] #costo de básico 1 en mxn/kg\n",
    "cb2 = p[yb2,5] #costo de básico 2 en mxn/kg\n",
    "\n",
    "# calculamos el costo de materia prima para producir el producto \n",
    "\n",
    "b1_kg = dem*bx1\n",
    "b2_kg = dem*bx2\n",
    "cb1_tot = b1_kg*cb1\n",
    "cb2_tot = b2_kg*cb2\n",
    "c_total = cb1_tot + cb2_tot\n",
    "\n",
    "ctotal = round(c_total,2)\n",
    "\n",
    "info_prod = [z, dem, bnom1, bnom2, c_total]\n",
    "headings = [\"codigo de producto\",\"demanda Kg/mes\", \"B1\", \"B2\", \"costo_total pesos\"]\n",
    "answer = [info_prod headings]\n"
   ]
  },
  {
   "cell_type": "code",
   "execution_count": null,
   "metadata": {
    "collapsed": true
   },
   "outputs": [],
   "source": []
  }
 ],
 "metadata": {
  "kernelspec": {
   "display_name": "Julia 0.6.2",
   "language": "julia",
   "name": "julia-0.6"
  },
  "language_info": {
   "file_extension": ".jl",
   "mimetype": "application/julia",
   "name": "julia",
   "version": "0.6.2"
  }
 },
 "nbformat": 4,
 "nbformat_minor": 2
}
